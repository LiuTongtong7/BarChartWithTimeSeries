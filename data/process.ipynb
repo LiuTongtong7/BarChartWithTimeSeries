{
 "cells": [
  {
   "cell_type": "code",
   "execution_count": 1,
   "metadata": {},
   "outputs": [],
   "source": [
    "import pandas as pd"
   ]
  },
  {
   "cell_type": "code",
   "execution_count": 2,
   "metadata": {},
   "outputs": [
    {
     "data": {
      "text/plain": [
       "(264, 63)"
      ]
     },
     "execution_count": 2,
     "metadata": {},
     "output_type": "execute_result"
    }
   ],
   "source": [
    "df = pd.read_csv('gdp_data_en.csv')\n",
    "df.shape"
   ]
  },
  {
   "cell_type": "code",
   "execution_count": 3,
   "metadata": {},
   "outputs": [
    {
     "data": {
      "text/plain": [
       "(217, 63)"
      ]
     },
     "execution_count": 3,
     "metadata": {},
     "output_type": "execute_result"
    }
   ],
   "source": [
    "removed_rows = [5, 34, 47, 59, 60, 61, 62, 63, 66, 71, 72, 93, 96, 100, 101, 102, 103, 105, 108, 126, 132, 133, 134, 137, 138, 140, 151, 154, 159, 168, 179, 181, 189, 195, 196, 202, 213, 215, 216, 228, 229, 234, 236, 238, 239, 247, 257]\n",
    "df.drop(removed_rows, inplace=True)\n",
    "df.shape"
   ]
  },
  {
   "cell_type": "code",
   "execution_count": 6,
   "metadata": {},
   "outputs": [],
   "source": [
    "top10 = {}\n",
    "for year in range(1960, 2018):\n",
    "    tmp = df.loc[:, ['Country Name', str(year)]].sort_values(by=str(year), ascending=False)[:10]\n",
    "    top10[year] = [{'name': c, 'value': int(g / 1e8)} for c, g in tmp.values]"
   ]
  },
  {
   "cell_type": "code",
   "execution_count": 8,
   "metadata": {},
   "outputs": [
    {
     "data": {
      "text/plain": [
       "{'Argentina',\n",
       " 'Australia',\n",
       " 'Brazil',\n",
       " 'Canada',\n",
       " 'China',\n",
       " 'France',\n",
       " 'Germany',\n",
       " 'India',\n",
       " 'Italy',\n",
       " 'Japan',\n",
       " 'Korea, Rep.',\n",
       " 'Mexico',\n",
       " 'Netherlands',\n",
       " 'Russian Federation',\n",
       " 'Spain',\n",
       " 'Sweden',\n",
       " 'United Kingdom',\n",
       " 'United States'}"
      ]
     },
     "execution_count": 8,
     "metadata": {},
     "output_type": "execute_result"
    }
   ],
   "source": [
    "{c['name'] for y in top10 for c in top10[y]}"
   ]
  },
  {
   "cell_type": "code",
   "execution_count": 13,
   "metadata": {},
   "outputs": [
    {
     "data": {
      "text/plain": [
       "249         United States\n",
       "38                  China\n",
       "117                 Japan\n",
       "53                Germany\n",
       "79         United Kingdom\n",
       "107                 India\n",
       "75                 France\n",
       "27                 Brazil\n",
       "114                 Italy\n",
       "33                 Canada\n",
       "200    Russian Federation\n",
       "124           Korea, Rep.\n",
       "11              Australia\n",
       "68                  Spain\n",
       "152                Mexico\n",
       "174           Netherlands\n",
       "7               Argentina\n",
       "221                Sweden\n",
       "Name: Country Name, dtype: object"
      ]
     },
     "execution_count": 13,
     "metadata": {},
     "output_type": "execute_result"
    }
   ],
   "source": [
    "df.loc[df['Country Name'].isin({c['name'] for y in top10 for c in top10[y]})].sort_values(by='2017', ascending=False)['Country Name']"
   ]
  },
  {
   "cell_type": "code",
   "execution_count": 9,
   "metadata": {},
   "outputs": [],
   "source": [
    "import json\n",
    "\n",
    "with open('top10_per_year.json', 'w') as fp:\n",
    "    json.dump(top10, fp, indent=4)"
   ]
  },
  {
   "cell_type": "code",
   "execution_count": null,
   "metadata": {},
   "outputs": [],
   "source": []
  },
  {
   "cell_type": "code",
   "execution_count": 25,
   "metadata": {},
   "outputs": [],
   "source": [
    "countries = df.loc[:, ['Country Name', '2017']].sort_values(by='2017', ascending=False)[:10]['Country Name'].index\n",
    "data = {}\n",
    "for year in range(1960, 2018):\n",
    "    tmp = df.loc[countries, ['Country Name', str(year)]].fillna(0)\n",
    "    data[year] = [{'name': c, 'value': int(g / 1e8)} for c, g in tmp.values]"
   ]
  },
  {
   "cell_type": "code",
   "execution_count": 27,
   "metadata": {},
   "outputs": [],
   "source": [
    "import json\n",
    "\n",
    "with open('10countries_per_year.json', 'w') as fp:\n",
    "    json.dump(data, fp, indent=4)"
   ]
  },
  {
   "cell_type": "code",
   "execution_count": null,
   "metadata": {},
   "outputs": [],
   "source": []
  },
  {
   "cell_type": "code",
   "execution_count": 42,
   "metadata": {},
   "outputs": [],
   "source": [
    "tmp = df.loc[df['Country Name'].isin({c['name'] for y in top10 for c in top10[y]})]\n",
    "tmp = tmp.drop(columns=['Country Code', 'Indicator Name', 'Indicator Code', 'Unnamed: 62']).fillna(0)\n",
    "tmp = tmp.set_index('Country Name').T\n",
    "tmp.to_csv('top_country_gdp.csv', index_label='time')"
   ]
  },
  {
   "cell_type": "code",
   "execution_count": null,
   "metadata": {},
   "outputs": [],
   "source": []
  }
 ],
 "metadata": {
  "kernelspec": {
   "display_name": "Python 3",
   "language": "python",
   "name": "python3"
  },
  "language_info": {
   "codemirror_mode": {
    "name": "ipython",
    "version": 3
   },
   "file_extension": ".py",
   "mimetype": "text/x-python",
   "name": "python",
   "nbconvert_exporter": "python",
   "pygments_lexer": "ipython3",
   "version": "3.7.0"
  }
 },
 "nbformat": 4,
 "nbformat_minor": 2
}
